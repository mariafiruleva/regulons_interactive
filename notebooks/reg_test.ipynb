{
 "cells": [
  {
   "cell_type": "code",
   "execution_count": 1,
   "metadata": {},
   "outputs": [],
   "source": [
    "import sys\n",
    "import pandas as pd\n",
    "from interactive_network_visualization.controllers import NetworkAnalyzer\n",
    "%matplotlib notebook"
   ]
  },
  {
   "cell_type": "code",
   "execution_count": 7,
   "metadata": {},
   "outputs": [],
   "source": [
    "COMMENT_COLOR         = \"blueviolet\"\n",
    "SUBMISSION_COLOR      = \"darkorange\"\n",
    "TEXT_PREVIEW_SIZE     = 240\n",
    "TERM_OF_INTEREST      = \"python\"\n",
    "SUBREDDIT_OF_INTEREST = \"python\"\n",
    "TIMEFRAME             = \"48h\""
   ]
  },
  {
   "cell_type": "code",
   "execution_count": 3,
   "metadata": {},
   "outputs": [
    {
     "data": {
      "text/html": [
       "<div>\n",
       "<style scoped>\n",
       "    .dataframe tbody tr th:only-of-type {\n",
       "        vertical-align: middle;\n",
       "    }\n",
       "\n",
       "    .dataframe tbody tr th {\n",
       "        vertical-align: top;\n",
       "    }\n",
       "\n",
       "    .dataframe thead th {\n",
       "        text-align: right;\n",
       "    }\n",
       "</style>\n",
       "<table border=\"1\" class=\"dataframe\">\n",
       "  <thead>\n",
       "    <tr style=\"text-align: right;\">\n",
       "      <th></th>\n",
       "      <th>size</th>\n",
       "    </tr>\n",
       "    <tr>\n",
       "      <th>id</th>\n",
       "      <th></th>\n",
       "    </tr>\n",
       "  </thead>\n",
       "  <tbody>\n",
       "    <tr>\n",
       "      <th>G1</th>\n",
       "      <td>0.995640</td>\n",
       "    </tr>\n",
       "    <tr>\n",
       "      <th>G10</th>\n",
       "      <td>0.996185</td>\n",
       "    </tr>\n",
       "    <tr>\n",
       "      <th>G100</th>\n",
       "      <td>0.996185</td>\n",
       "    </tr>\n",
       "    <tr>\n",
       "      <th>G1000</th>\n",
       "      <td>0.103542</td>\n",
       "    </tr>\n",
       "    <tr>\n",
       "      <th>G1001</th>\n",
       "      <td>0.105722</td>\n",
       "    </tr>\n",
       "    <tr>\n",
       "      <th>...</th>\n",
       "      <td>...</td>\n",
       "    </tr>\n",
       "    <tr>\n",
       "      <th>G995</th>\n",
       "      <td>0.105722</td>\n",
       "    </tr>\n",
       "    <tr>\n",
       "      <th>G996</th>\n",
       "      <td>0.106267</td>\n",
       "    </tr>\n",
       "    <tr>\n",
       "      <th>G997</th>\n",
       "      <td>0.105722</td>\n",
       "    </tr>\n",
       "    <tr>\n",
       "      <th>G998</th>\n",
       "      <td>0.105722</td>\n",
       "    </tr>\n",
       "    <tr>\n",
       "      <th>G999</th>\n",
       "      <td>0.105722</td>\n",
       "    </tr>\n",
       "  </tbody>\n",
       "</table>\n",
       "<p>1643 rows × 1 columns</p>\n",
       "</div>"
      ],
      "text/plain": [
       "           size\n",
       "id             \n",
       "G1     0.995640\n",
       "G10    0.996185\n",
       "G100   0.996185\n",
       "G1000  0.103542\n",
       "G1001  0.105722\n",
       "...         ...\n",
       "G995   0.105722\n",
       "G996   0.106267\n",
       "G997   0.105722\n",
       "G998   0.105722\n",
       "G999   0.105722\n",
       "\n",
       "[1643 rows x 1 columns]"
      ]
     },
     "execution_count": 3,
     "metadata": {},
     "output_type": "execute_result"
    }
   ],
   "source": [
    "nodes = pd.read_csv('../nodes.csv').set_index('id')"
   ]
  },
  {
   "cell_type": "code",
   "execution_count": 9,
   "metadata": {},
   "outputs": [
    {
     "data": {
      "text/html": [
       "<div>\n",
       "<style scoped>\n",
       "    .dataframe tbody tr th:only-of-type {\n",
       "        vertical-align: middle;\n",
       "    }\n",
       "\n",
       "    .dataframe tbody tr th {\n",
       "        vertical-align: top;\n",
       "    }\n",
       "\n",
       "    .dataframe thead th {\n",
       "        text-align: right;\n",
       "    }\n",
       "</style>\n",
       "<table border=\"1\" class=\"dataframe\">\n",
       "  <thead>\n",
       "    <tr style=\"text-align: right;\">\n",
       "      <th></th>\n",
       "      <th>size</th>\n",
       "    </tr>\n",
       "    <tr>\n",
       "      <th>id</th>\n",
       "      <th></th>\n",
       "    </tr>\n",
       "  </thead>\n",
       "  <tbody>\n",
       "    <tr>\n",
       "      <th>G1</th>\n",
       "      <td>0.995640</td>\n",
       "    </tr>\n",
       "    <tr>\n",
       "      <th>G10</th>\n",
       "      <td>0.996185</td>\n",
       "    </tr>\n",
       "    <tr>\n",
       "      <th>G100</th>\n",
       "      <td>0.996185</td>\n",
       "    </tr>\n",
       "  </tbody>\n",
       "</table>\n",
       "</div>"
      ],
      "text/plain": [
       "          size\n",
       "id            \n",
       "G1    0.995640\n",
       "G10   0.996185\n",
       "G100  0.996185"
      ]
     },
     "execution_count": 9,
     "metadata": {},
     "output_type": "execute_result"
    }
   ],
   "source": [
    "nodes[0:3]"
   ]
  },
  {
   "cell_type": "code",
   "execution_count": 10,
   "metadata": {},
   "outputs": [],
   "source": [
    "edges = pd.read_csv('../edges.csv').set_index([\"from\", \"to\"])"
   ]
  },
  {
   "cell_type": "code",
   "execution_count": 11,
   "metadata": {},
   "outputs": [
    {
     "data": {
      "text/html": [
       "<div>\n",
       "<style scoped>\n",
       "    .dataframe tbody tr th:only-of-type {\n",
       "        vertical-align: middle;\n",
       "    }\n",
       "\n",
       "    .dataframe tbody tr th {\n",
       "        vertical-align: top;\n",
       "    }\n",
       "\n",
       "    .dataframe thead th {\n",
       "        text-align: right;\n",
       "    }\n",
       "</style>\n",
       "<table border=\"1\" class=\"dataframe\">\n",
       "  <thead>\n",
       "    <tr style=\"text-align: right;\">\n",
       "      <th></th>\n",
       "      <th></th>\n",
       "      <th>weight</th>\n",
       "    </tr>\n",
       "    <tr>\n",
       "      <th>from</th>\n",
       "      <th>to</th>\n",
       "      <th></th>\n",
       "    </tr>\n",
       "  </thead>\n",
       "  <tbody>\n",
       "    <tr>\n",
       "      <th>G109</th>\n",
       "      <th>G1406</th>\n",
       "      <td>256.013694</td>\n",
       "    </tr>\n",
       "    <tr>\n",
       "      <th>G16</th>\n",
       "      <th>G1440</th>\n",
       "      <td>242.800004</td>\n",
       "    </tr>\n",
       "    <tr>\n",
       "      <th>G188</th>\n",
       "      <th>G938</th>\n",
       "      <td>204.840171</td>\n",
       "    </tr>\n",
       "  </tbody>\n",
       "</table>\n",
       "</div>"
      ],
      "text/plain": [
       "                weight\n",
       "from to               \n",
       "G109 G1406  256.013694\n",
       "G16  G1440  242.800004\n",
       "G188 G938   204.840171"
      ]
     },
     "execution_count": 11,
     "metadata": {},
     "output_type": "execute_result"
    }
   ],
   "source": [
    "edges[0:3]"
   ]
  },
  {
   "cell_type": "code",
   "execution_count": 20,
   "metadata": {},
   "outputs": [
    {
     "data": {
      "application/vnd.jupyter.widget-view+json": {
       "model_id": "e0991d1427d94bfc902981ebef604c53",
       "version_major": 2,
       "version_minor": 0
      },
      "text/plain": [
       "NetworkAnalyzer(children=(Accordion(children=(LayoutView(children=(Dropdown(options=('fruchterman_reingold_lay…"
      ]
     },
     "metadata": {},
     "output_type": "display_data"
    }
   ],
   "source": [
    "network_analyzer = NetworkAnalyzer(nodes, edges)"
   ]
  },
  {
   "cell_type": "code",
   "execution_count": null,
   "metadata": {},
   "outputs": [],
   "source": [
    "network_analyzer"
   ]
  }
 ],
 "metadata": {
  "kernelspec": {
   "display_name": "Python 3",
   "language": "python",
   "name": "python3"
  },
  "language_info": {
   "codemirror_mode": {
    "name": "ipython",
    "version": 3
   },
   "file_extension": ".py",
   "mimetype": "text/x-python",
   "name": "python",
   "nbconvert_exporter": "python",
   "pygments_lexer": "ipython3",
   "version": "3.6.11"
  }
 },
 "nbformat": 4,
 "nbformat_minor": 4
}
